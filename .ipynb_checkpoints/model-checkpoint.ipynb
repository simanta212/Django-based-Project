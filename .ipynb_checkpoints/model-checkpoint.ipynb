{
 "cells": [
  {
   "cell_type": "code",
   "execution_count": 1,
   "metadata": {},
   "outputs": [],
   "source": [
    "import pandas as pd\n",
    "import numpy as np\n",
    "import matplotlib.pyplot as plt\n"
   ]
  },
  {
   "cell_type": "code",
   "execution_count": 2,
   "metadata": {},
   "outputs": [],
   "source": [
    "animes = pd.read_csv('anime.csv', sep=',', encoding='latin-1', usecols=['title', 'genres'])"
   ]
  },
  {
   "cell_type": "code",
   "execution_count": 3,
   "metadata": {},
   "outputs": [],
   "source": [
    "#spliting into array list or string list\n",
    "animes['genres'] = animes['genres'].str.split('|') \n",
    "animes['genres'] = animes['genres'].fillna(\"\").astype('str')"
   ]
  },
  {
   "cell_type": "code",
   "execution_count": 4,
   "metadata": {},
   "outputs": [
    {
     "data": {
      "text/plain": [
       "(12271, 654)"
      ]
     },
     "execution_count": 4,
     "metadata": {},
     "output_type": "execute_result"
    }
   ],
   "source": [
    "from sklearn.feature_extraction.text import TfidfVectorizer\n",
    "#excluding stopwords like the,etc,and.\n",
    "tf = TfidfVectorizer(analyzer='word',ngram_range=(1, 2),min_df=0, stop_words='english') \n",
    "tfidf_matrix = tf.fit_transform(animes['genres'])\n",
    "tfidf_matrix.shape"
   ]
  },
  {
   "cell_type": "code",
   "execution_count": 5,
   "metadata": {},
   "outputs": [
    {
     "data": {
      "text/plain": [
       "array([[1.        , 0.04302443, 0.        , 0.        ],\n",
       "       [0.04302443, 1.        , 0.04978686, 0.        ],\n",
       "       [0.        , 0.04978686, 1.        , 0.11738971],\n",
       "       [0.        , 0.        , 0.11738971, 1.        ]])"
      ]
     },
     "execution_count": 5,
     "metadata": {},
     "output_type": "execute_result"
    }
   ],
   "source": [
    "from sklearn.metrics.pairwise import cosine_similarity\n",
    "cosine_sim = cosine_similarity(tfidf_matrix, tfidf_matrix)\n",
    "cosine_sim[:4, :4]"
   ]
  },
  {
   "cell_type": "code",
   "execution_count": 6,
   "metadata": {},
   "outputs": [],
   "source": [
    "#building 1-dimensional list with anime titles\n",
    "titles = animes['title']\n",
    "indices = pd.Series(animes.index, index=animes['title'])"
   ]
  },
  {
   "cell_type": "code",
   "execution_count": 7,
   "metadata": {},
   "outputs": [],
   "source": [
    "#peforming function to get anime recommendation \n",
    "#based on cosine similarity scores of anime titles\n",
    "def genre_recommendations(title):\n",
    "    idx = indices[title]\n",
    "    sim_scores = list(enumerate(cosine_sim[idx]))\n",
    "    sim_scores = sorted(sim_scores, key=lambda x: x[1], reverse=True)\n",
    "    sim_scores = sim_scores[1:21]\n",
    "    anime_indices = [i[0] for i in sim_scores]\n",
    "    return titles.iloc[anime_indices]"
   ]
  },
  {
   "cell_type": "code",
   "execution_count": 8,
   "metadata": {},
   "outputs": [
    {
     "data": {
      "text/plain": [
       "615                                    Naruto: Shippuuden\n",
       "841                                                Naruto\n",
       "1103    Boruto: Naruto the Movie - Naruto ga Hokage ni...\n",
       "1343                                          Naruto x UT\n",
       "1472          Naruto: Shippuuden Movie 4 - The Lost Tower\n",
       "1573    Naruto: Shippuuden Movie 3 - Hi no Ishi wo Tsu...\n",
       "2458                 Naruto Shippuuden: Sunny Side Battle\n",
       "2997    Naruto Soyokazeden Movie: Naruto to Mashin to ...\n",
       "7837                        Battle Spirits: Ryuuko no Ken\n",
       "7628                              Kyutai Panic Adventure!\n",
       "1068                         Ranma Â½: Akumu! Shunmin Kou\n",
       "784            Naruto: Shippuuden Movie 6 - Road to Ninja\n",
       "1796                                       Rekka no Honoo\n",
       "2416    Naruto: Honoo no Chuunin Shiken! Naruto vs. Ko...\n",
       "4576                    Street Fighter Zero The Animation\n",
       "346                                           Dragon Ball\n",
       "1227                 Dragon Ball Z Movie 14: Kami to Kami\n",
       "206                                         Dragon Ball Z\n",
       "515                                Dragon Ball Kai (2014)\n",
       "588                                       Dragon Ball Kai\n",
       "Name: title, dtype: object"
      ]
     },
     "execution_count": 8,
     "metadata": {},
     "output_type": "execute_result"
    }
   ],
   "source": [
    "genre_recommendations('Naruto').head(20)"
   ]
  },
  {
   "cell_type": "code",
   "execution_count": 13,
   "metadata": {},
   "outputs": [],
   "source": [
    "#print(\"predicted accuracy\"genre_recommendations(x_test,y_test)*100,'%'')"
   ]
  },
  {
   "cell_type": "code",
   "execution_count": null,
   "metadata": {},
   "outputs": [],
   "source": []
  }
 ],
 "metadata": {
  "kernelspec": {
   "display_name": "Python 3",
   "language": "python",
   "name": "python3"
  },
  "language_info": {
   "codemirror_mode": {
    "name": "ipython",
    "version": 3
   },
   "file_extension": ".py",
   "mimetype": "text/x-python",
   "name": "python",
   "nbconvert_exporter": "python",
   "pygments_lexer": "ipython3",
   "version": "3.8.5"
  }
 },
 "nbformat": 4,
 "nbformat_minor": 4
}
