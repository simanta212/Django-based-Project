{
 "cells": [
  {
   "cell_type": "code",
   "execution_count": 5,
   "metadata": {},
   "outputs": [],
   "source": [
    "import pandas as pd\n",
    "import numpy as np\n",
    "import matplotlib.pyplot as plt\n"
   ]
  },
  {
   "cell_type": "code",
   "execution_count": 6,
   "metadata": {},
   "outputs": [],
   "source": [
    "animes = pd.read_csv('anime.csv', sep=',', encoding='latin-1', usecols=['title', 'genres'])"
   ]
  },
  {
   "cell_type": "code",
   "execution_count": 7,
   "metadata": {},
   "outputs": [],
   "source": [
    "#spliting into array list or string list\n",
    "animes['genres'] = animes['genres'].str.split('|') \n",
    "animes['genres'] = animes['genres'].fillna(\"\").astype('str')"
   ]
  },
  {
   "cell_type": "code",
   "execution_count": 8,
   "metadata": {},
   "outputs": [
    {
     "data": {
      "text/plain": [
       "(12271, 654)"
      ]
     },
     "execution_count": 8,
     "metadata": {},
     "output_type": "execute_result"
    }
   ],
   "source": [
    "from sklearn.feature_extraction.text import TfidfVectorizer\n",
    "#excluding stopwords like the,etc,and.\n",
    "tf = TfidfVectorizer(analyzer='word',ngram_range=(1, 2),min_df=0, stop_words='english') \n",
    "tfidf_matrix = tf.fit_transform(animes['genres'])\n",
    "tfidf_matrix.shape"
   ]
  },
  {
   "cell_type": "code",
   "execution_count": 9,
   "metadata": {},
   "outputs": [
    {
     "data": {
      "text/plain": [
       "array([[1.        , 0.04302443, 0.        , 0.        ],\n",
       "       [0.04302443, 1.        , 0.04978686, 0.        ],\n",
       "       [0.        , 0.04978686, 1.        , 0.11738971],\n",
       "       [0.        , 0.        , 0.11738971, 1.        ]])"
      ]
     },
     "execution_count": 9,
     "metadata": {},
     "output_type": "execute_result"
    }
   ],
   "source": [
    "from sklearn.metrics.pairwise import cosine_similarity\n",
    "cosine_sim = cosine_similarity(tfidf_matrix, tfidf_matrix)\n",
    "cosine_sim[:4, :4]"
   ]
  },
  {
   "cell_type": "code",
   "execution_count": 10,
   "metadata": {},
   "outputs": [],
   "source": [
    "#building 1-dimensional list with anime titles\n",
    "titles = animes['title']\n",
    "indices = pd.Series(animes.index, index=animes['title'])"
   ]
  },
  {
   "cell_type": "code",
   "execution_count": 11,
   "metadata": {},
   "outputs": [],
   "source": [
    "#peforming function to get anime recommendation \n",
    "#based on cosine similarity scores of anime titles\n",
    "def genre_recommendations(title):\n",
    "    idx = indices[title]\n",
    "    sim_scores = list(enumerate(cosine_sim[idx]))\n",
    "    sim_scores = sorted(sim_scores, key=lambda x: x[1], reverse=True)\n",
    "    sim_scores = sim_scores[1:21]\n",
    "    anime_indices = [i[0] for i in sim_scores]\n",
    "    return titles.iloc[anime_indices]"
   ]
  },
  {
   "cell_type": "code",
   "execution_count": 15,
   "metadata": {},
   "outputs": [
    {
     "data": {
      "text/plain": [
       "231     One Piece: Episode of Merry - Mou Hitori no Na...\n",
       "241     One Piece: Episode of Nami - Koukaishi no Nami...\n",
       "896     One Piece: Episode of Sabo - 3 Kyoudai no Kizu...\n",
       "352                One Piece Film: Strong World Episode 0\n",
       "753     One Piece: Episode of Luffy - Hand Island no B...\n",
       "941                 One Piece Movie 4: Dead End no Bouken\n",
       "1171    One Piece Movie 9: Episode of Chopper Plus - F...\n",
       "1576                   One Piece: Adventure of Nebulandia\n",
       "1793                 One Piece Movie 5: Norowareta Seiken\n",
       "1795              One Piece: Umi no Heso no Daibouken-hen\n",
       "1829    One Piece: Oounabara ni Hirake! Dekkai Dekkai ...\n",
       "2119                           One Piece: Glorious Island\n",
       "2161                                      One Piece Recap\n",
       "2202        One Piece Movie 2: Nejimaki-jima no Daibouken\n",
       "2492                                    One Piece Movie 1\n",
       "2723    One Piece Movie 3: Chinjuu-jima no Chopper Oukoku\n",
       "3202           Dragon Ball Movie 1: Shen Long no Densetsu\n",
       "3264            One Piece Film: Gold Episode 0 - 711 ver.\n",
       "3839                    One Piece: Taose! Kaizoku Ganzack\n",
       "86                                     Shingeki no Kyojin\n",
       "Name: title, dtype: object"
      ]
     },
     "execution_count": 15,
     "metadata": {},
     "output_type": "execute_result"
    }
   ],
   "source": [
    "genre_recommendations('One Piece').head(20)"
   ]
  },
  {
   "cell_type": "code",
   "execution_count": 13,
   "metadata": {},
   "outputs": [],
   "source": [
    "#print(\"predicted accuracy\"genre_recommendations(x_test,y_test)*100,'%'')"
   ]
  },
  {
   "cell_type": "code",
   "execution_count": null,
   "metadata": {},
   "outputs": [],
   "source": []
  }
 ],
 "metadata": {
  "kernelspec": {
   "display_name": "Python 3",
   "language": "python",
   "name": "python3"
  },
  "language_info": {
   "codemirror_mode": {
    "name": "ipython",
    "version": 3
   },
   "file_extension": ".py",
   "mimetype": "text/x-python",
   "name": "python",
   "nbconvert_exporter": "python",
   "pygments_lexer": "ipython3",
   "version": "3.8.5"
  }
 },
 "nbformat": 4,
 "nbformat_minor": 4
}
